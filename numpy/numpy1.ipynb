{
 "cells": [
  {
   "cell_type": "code",
   "execution_count": 1,
   "metadata": {},
   "outputs": [],
   "source": [
    "import numpy as np"
   ]
  },
  {
   "cell_type": "code",
   "execution_count": 2,
   "metadata": {},
   "outputs": [],
   "source": [
    "ar1 = np.array([25,56,12,85,34,75])\n",
    "ar2 = np.array([42,3,86,32,856,46])"
   ]
  },
  {
   "cell_type": "code",
   "execution_count": 3,
   "metadata": {},
   "outputs": [
    {
     "name": "stdout",
     "output_type": "stream",
     "text": [
      "[6]\n"
     ]
    }
   ],
   "source": [
    "sp = list(ar1.shape)\n",
    "print(sp)"
   ]
  },
  {
   "cell_type": "code",
   "execution_count": 4,
   "metadata": {},
   "outputs": [
    {
     "name": "stdout",
     "output_type": "stream",
     "text": [
      "[0.92403185 0.77339607 0.96945024 0.12114556 0.75939662 0.54543031]\n"
     ]
    }
   ],
   "source": [
    "#create a randon array of ar1 shape\n",
    "rar1 = np.random.rand(sp[0])\n",
    "print(rar1)"
   ]
  },
  {
   "cell_type": "code",
   "execution_count": 5,
   "metadata": {},
   "outputs": [
    {
     "name": "stdout",
     "output_type": "stream",
     "text": [
      "[25.+0.j 56.+0.j 12.+0.j 85.+0.j 34.+0.j 75.+0.j]\n"
     ]
    }
   ],
   "source": [
    "ar1 = ar1.astype('complex')\n",
    "print(ar1)"
   ]
  },
  {
   "cell_type": "code",
   "execution_count": 6,
   "metadata": {},
   "outputs": [
    {
     "name": "stdout",
     "output_type": "stream",
     "text": [
      "[ 42.+0.j   3.+0.j  86.+0.j  32.+0.j 856.+0.j  46.+0.j]\n"
     ]
    }
   ],
   "source": [
    "ar2 = ar2.astype('complex')\n",
    "print(ar2)"
   ]
  },
  {
   "cell_type": "code",
   "execution_count": 7,
   "metadata": {},
   "outputs": [
    {
     "name": "stdout",
     "output_type": "stream",
     "text": [
      "[[25.+0.j 56.+0.j 12.+0.j]\n",
      " [85.+0.j 34.+0.j 75.+0.j]]\n",
      "[[ 42.+0.j   3.+0.j  86.+0.j]\n",
      " [ 32.+0.j 856.+0.j  46.+0.j]]\n"
     ]
    }
   ],
   "source": [
    "ar1 = ar1.reshape(2,3)\n",
    "ar2 = ar2.reshape(2,3)\n",
    "print(ar1)\n",
    "print(ar2)"
   ]
  },
  {
   "cell_type": "code",
   "execution_count": 8,
   "metadata": {},
   "outputs": [
    {
     "name": "stdout",
     "output_type": "stream",
     "text": [
      "[[ 67.-0.j  59.+0.j  98.-0.j]\n",
      " [117.+0.j 890.-0.j 121.+0.j]]\n"
     ]
    }
   ],
   "source": [
    "ar3 = (ar1*ar1-ar2*ar2)/(ar1-ar2)\n",
    "print(ar3)"
   ]
  },
  {
   "cell_type": "code",
   "execution_count": 9,
   "metadata": {},
   "outputs": [
    {
     "name": "stdout",
     "output_type": "stream",
     "text": [
      "True .. they are same\n"
     ]
    }
   ],
   "source": [
    "#a2-b2 = (a+b)(a-b)\n",
    "ar4 = ar1+ar2\n",
    "if ar3.all() == ar4.all() :\n",
    "    print(\"True .. they are same\")\n",
    "else:\n",
    "    print(\"False .. they are different\")"
   ]
  },
  {
   "cell_type": "markdown",
   "metadata": {},
   "source": [
    "<h1>check on eye,zeros,ones</h1>"
   ]
  },
  {
   "cell_type": "code",
   "execution_count": 10,
   "metadata": {},
   "outputs": [
    {
     "name": "stdout",
     "output_type": "stream",
     "text": [
      "float64,float64\n"
     ]
    }
   ],
   "source": [
    "at1 = np.ones(10)\n",
    "at2 = np.arange(10, dtype = np.float64)\n",
    "at3 = at1 + at2\n",
    "print(str(np.result_type(at1))+','+str(np.result_type(at3)))"
   ]
  },
  {
   "cell_type": "code",
   "execution_count": 11,
   "metadata": {},
   "outputs": [
    {
     "name": "stdout",
     "output_type": "stream",
     "text": [
      "(4,)\n",
      "(2, 2)\n"
     ]
    }
   ],
   "source": [
    "at1 = np.arange(4)\n",
    "at1.reshape(2,2)\n",
    "print(at1.shape)\n",
    "at1 = at1.reshape(2,2)\n",
    "print(at1.shape)"
   ]
  },
  {
   "cell_type": "code",
   "execution_count": 12,
   "metadata": {},
   "outputs": [
    {
     "name": "stdout",
     "output_type": "stream",
     "text": [
      "(2, 2)\n"
     ]
    }
   ],
   "source": [
    "at1 = np.arange(4)\n",
    "at1 = at1.reshape(2,-1)\n",
    "print(at1.shape)"
   ]
  },
  {
   "cell_type": "code",
   "execution_count": 13,
   "metadata": {},
   "outputs": [
    {
     "name": "stdout",
     "output_type": "stream",
     "text": [
      "[[1 0 0 0 0 0 0 0 0 0]\n",
      " [0 1 0 0 0 0 0 0 0 0]\n",
      " [0 0 1 0 0 0 0 0 0 0]\n",
      " [0 0 0 1 0 0 0 0 0 0]\n",
      " [0 0 0 0 1 0 0 0 0 0]\n",
      " [0 0 0 0 0 1 0 0 0 0]\n",
      " [0 0 0 0 0 0 1 0 0 0]\n",
      " [0 0 0 0 0 0 0 1 0 0]\n",
      " [0 0 0 0 0 0 0 0 1 0]\n",
      " [0 0 0 0 0 0 0 0 0 1]]\n"
     ]
    }
   ],
   "source": [
    "at1 = np.eye(10, dtype = int)\n",
    "print(at1)"
   ]
  },
  {
   "cell_type": "code",
   "execution_count": 14,
   "metadata": {},
   "outputs": [
    {
     "name": "stdout",
     "output_type": "stream",
     "text": [
      "[0 0 0 0 0 0 0 0 0 0]\n"
     ]
    }
   ],
   "source": [
    "at1 = np.zeros(10, dtype = int)\n",
    "print(at1)"
   ]
  },
  {
   "cell_type": "code",
   "execution_count": 15,
   "metadata": {},
   "outputs": [
    {
     "name": "stdout",
     "output_type": "stream",
     "text": [
      "[[0 0 0 0 0 0 0 0 0 0]\n",
      " [0 0 0 0 0 0 0 0 0 0]\n",
      " [0 0 0 0 0 0 0 0 0 0]\n",
      " [0 0 0 0 0 0 0 0 0 0]\n",
      " [0 0 0 0 0 0 0 0 0 0]\n",
      " [0 0 0 0 0 0 0 0 0 0]\n",
      " [0 0 0 0 0 0 0 0 0 0]\n",
      " [0 0 0 0 0 0 0 0 0 0]\n",
      " [0 0 0 0 0 0 0 0 0 0]\n",
      " [0 0 0 0 0 0 0 0 0 0]]\n"
     ]
    }
   ],
   "source": [
    "at1 = np.zeros((10,10), dtype = int)\n",
    "print(at1)"
   ]
  },
  {
   "cell_type": "markdown",
   "metadata": {},
   "source": [
    "<h1>Cumulative Sum, Axis</h1>"
   ]
  },
  {
   "cell_type": "code",
   "execution_count": 16,
   "metadata": {},
   "outputs": [
    {
     "name": "stdout",
     "output_type": "stream",
     "text": [
      "[[ 4  2 -1  4]\n",
      " [ 3 -3  0 -1]]\n"
     ]
    }
   ],
   "source": [
    "S_X = np.array([[2,5,6,5],[4,8,6,5]])\n",
    "S_Y = np.array([[6,7,5,9],[7,5,6,4]])\n",
    "print(S_Y-S_X)"
   ]
  },
  {
   "cell_type": "code",
   "execution_count": 17,
   "metadata": {},
   "outputs": [
    {
     "name": "stdout",
     "output_type": "stream",
     "text": [
      "[[False False False False]\n",
      " [False False False False]]\n",
      "[[False False False False]\n",
      " [False False False False]]\n"
     ]
    }
   ],
   "source": [
    "print(S_X<2)\n",
    "print(np.less(S_X,np.ones((2,4))*2))"
   ]
  },
  {
   "cell_type": "code",
   "execution_count": 18,
   "metadata": {},
   "outputs": [
    {
     "name": "stdout",
     "output_type": "stream",
     "text": [
      "[[False False  True  True]\n",
      " [False  True  True  True]]\n",
      "[[False  True  True  True]\n",
      " [False  True  True  True]]\n"
     ]
    }
   ],
   "source": [
    "print(np.cumsum(S_X,axis=1)>=8)\n",
    "print(np.cumsum(S_Y,axis=1)>=8)"
   ]
  },
  {
   "cell_type": "code",
   "execution_count": 19,
   "metadata": {},
   "outputs": [
    {
     "name": "stdout",
     "output_type": "stream",
     "text": [
      "[False False]\n",
      "[False False]\n"
     ]
    }
   ],
   "source": [
    "print(np.mean(S_X,axis=1)>=8)\n",
    "print(np.mean(S_Y,axis=1)>=8)"
   ]
  },
  {
   "cell_type": "code",
   "execution_count": 20,
   "metadata": {},
   "outputs": [
    {
     "name": "stdout",
     "output_type": "stream",
     "text": [
      "[False False False False]\n",
      "[False False False False]\n"
     ]
    }
   ],
   "source": [
    "print(np.mean(S_X,axis=0)>=8)\n",
    "print(np.mean(S_Y,axis=0)>=8)"
   ]
  },
  {
   "cell_type": "code",
   "execution_count": 21,
   "metadata": {},
   "outputs": [
    {
     "name": "stdout",
     "output_type": "stream",
     "text": [
      "[18 23]\n",
      "[27 22]\n"
     ]
    }
   ],
   "source": [
    "print(np.sum(S_X,axis=1))\n",
    "print(np.sum(S_Y,axis=1))"
   ]
  },
  {
   "cell_type": "markdown",
   "metadata": {},
   "source": [
    "<h1>Diagnal & numpy special</h1>"
   ]
  },
  {
   "cell_type": "code",
   "execution_count": 22,
   "metadata": {},
   "outputs": [
    {
     "name": "stdout",
     "output_type": "stream",
     "text": [
      "[[0 4 0 0]\n",
      " [0 0 5 0]\n",
      " [0 0 0 6]\n",
      " [0 0 0 0]]\n"
     ]
    }
   ],
   "source": [
    "print(np.diag([4,5,6],k=1))"
   ]
  },
  {
   "cell_type": "code",
   "execution_count": 23,
   "metadata": {},
   "outputs": [
    {
     "name": "stdout",
     "output_type": "stream",
     "text": [
      "[ 0  1  2  3  4  5  6 -7 -8 -9 10]\n"
     ]
    }
   ],
   "source": [
    "#negate if value between 6 and 10\n",
    "arr = np.arange(11)\n",
    "m = (arr>6)&(arr<10)\n",
    "arr[m]*=-1\n",
    "print(arr)"
   ]
  },
  {
   "cell_type": "markdown",
   "metadata": {},
   "source": [
    "<h1>Numpy Cheatsheet</h1>"
   ]
  },
  {
   "cell_type": "markdown",
   "metadata": {},
   "source": [
    "<h1>1. On Dimensions </h1>"
   ]
  },
  {
   "cell_type": "code",
   "execution_count": 24,
   "metadata": {},
   "outputs": [
    {
     "name": "stdout",
     "output_type": "stream",
     "text": [
      "1\n",
      "(10,)\n",
      "10\n"
     ]
    }
   ],
   "source": [
    "#1D array\n",
    "arr = np.arange(10)\n",
    "print(arr.ndim)\n",
    "print(arr.shape)\n",
    "print(len(arr))"
   ]
  },
  {
   "cell_type": "code",
   "execution_count": 25,
   "metadata": {},
   "outputs": [
    {
     "name": "stdout",
     "output_type": "stream",
     "text": [
      "2\n",
      "(2, 5)\n",
      "2\n",
      "5\n"
     ]
    }
   ],
   "source": [
    "#2D array\n",
    "arr = np.arange(10).reshape(2,5)\n",
    "print(arr.ndim)\n",
    "print(arr.shape)\n",
    "print(len(arr))\n",
    "print(len(arr[0]))"
   ]
  },
  {
   "cell_type": "code",
   "execution_count": 26,
   "metadata": {},
   "outputs": [
    {
     "name": "stdout",
     "output_type": "stream",
     "text": [
      "3\n",
      "(1, 2, 5)\n",
      "1\n",
      "2\n",
      "5\n"
     ]
    }
   ],
   "source": [
    "#3D array\n",
    "arr = np.arange(10).reshape(1,2,5)\n",
    "print(arr.ndim)\n",
    "print(arr.shape)\n",
    "print(len(arr))\n",
    "print(len(arr[0]))\n",
    "print(len(arr[0][0]))"
   ]
  },
  {
   "cell_type": "code",
   "execution_count": 27,
   "metadata": {},
   "outputs": [
    {
     "name": "stdout",
     "output_type": "stream",
     "text": [
      "[[['0' '1' '2' '3' '4']\n",
      "  ['5' '6' '7' '8' '9']]] <class 'numpy.ndarray'>\n"
     ]
    }
   ],
   "source": [
    "#Datatype casting explicitly\n",
    "arr = arr.astype(np.str)\n",
    "print(arr,type(arr))"
   ]
  },
  {
   "cell_type": "markdown",
   "metadata": {},
   "source": [
    "<h1>2. initial Placeholders</h1>"
   ]
  },
  {
   "cell_type": "code",
   "execution_count": 28,
   "metadata": {},
   "outputs": [
    {
     "name": "stdout",
     "output_type": "stream",
     "text": [
      "[[0. 0. 0. 0.]\n",
      " [0. 0. 0. 0.]\n",
      " [0. 0. 0. 0.]\n",
      " [0. 0. 0. 0.]]\n",
      "[[0 0 0 0]\n",
      " [0 0 0 0]\n",
      " [0 0 0 0]\n",
      " [0 0 0 0]]\n"
     ]
    }
   ],
   "source": [
    "#zeros\n",
    "print(np.zeros((4,4)))\n",
    "print(np.zeros((4,4),dtype=int))"
   ]
  },
  {
   "cell_type": "code",
   "execution_count": 29,
   "metadata": {},
   "outputs": [
    {
     "name": "stdout",
     "output_type": "stream",
     "text": [
      "[[1. 1. 1. 1.]\n",
      " [1. 1. 1. 1.]\n",
      " [1. 1. 1. 1.]\n",
      " [1. 1. 1. 1.]]\n",
      "[['1' '1' '1' '1']\n",
      " ['1' '1' '1' '1']\n",
      " ['1' '1' '1' '1']\n",
      " ['1' '1' '1' '1']]\n"
     ]
    }
   ],
   "source": [
    "#ones\n",
    "print(np.ones((4,4)))\n",
    "print(np.ones((4,4),dtype=str))"
   ]
  },
  {
   "cell_type": "code",
   "execution_count": 30,
   "metadata": {},
   "outputs": [
    {
     "name": "stdout",
     "output_type": "stream",
     "text": [
      "[10 12 14 16 18 20 22 24]\n"
     ]
    }
   ],
   "source": [
    "#arange start,end,increment\n",
    "print(np.arange(10,25,2))"
   ]
  },
  {
   "cell_type": "code",
   "execution_count": 31,
   "metadata": {},
   "outputs": [
    {
     "name": "stdout",
     "output_type": "stream",
     "text": [
      "[0.   0.25 0.5  0.75 1.   1.25 1.5  1.75 2.  ]\n"
     ]
    }
   ],
   "source": [
    "#linspace start,end,no.of units\n",
    "print(np.linspace(0,2,9))"
   ]
  },
  {
   "cell_type": "code",
   "execution_count": 32,
   "metadata": {},
   "outputs": [
    {
     "name": "stdout",
     "output_type": "stream",
     "text": [
      "[[b'' b'' b'' b'']\n",
      " [b'' b'' b'' b'']\n",
      " [b'' b'' b'' b'']\n",
      " [b'' b'' b'' b'']]\n"
     ]
    }
   ],
   "source": [
    "print(np.zeros((4,4),dtype=np.string_))"
   ]
  },
  {
   "cell_type": "code",
   "execution_count": 33,
   "metadata": {},
   "outputs": [
    {
     "name": "stdout",
     "output_type": "stream",
     "text": [
      "[[1. 0. 0.]\n",
      " [0. 1. 0.]\n",
      " [0. 0. 1.]]\n",
      "[[1. 0. 0.]\n",
      " [0. 1. 0.]\n",
      " [0. 0. 1.]]\n"
     ]
    }
   ],
   "source": [
    "# Eye or identity\n",
    "print(np.eye(3))\n",
    "print(np.identity(3))"
   ]
  },
  {
   "cell_type": "code",
   "execution_count": 34,
   "metadata": {},
   "outputs": [
    {
     "name": "stdout",
     "output_type": "stream",
     "text": [
      "[[0 0 0 0 0]\n",
      " [0 0 0 0 0]\n",
      " [4 0 0 0 0]\n",
      " [0 5 0 0 0]\n",
      " [0 0 6 0 0]]\n",
      "[[1 0 4 0 0]\n",
      " [0 2 0 5 0]\n",
      " [2 0 3 0 6]\n",
      " [0 3 0 4 0]\n",
      " [0 0 4 0 5]]\n"
     ]
    }
   ],
   "source": [
    "# Diagnol\n",
    "print(np.diag([4,5,6],k=-2))\n",
    "arr1 = np.diag([4,5,6],k=2)\n",
    "arr2 = np.diag([2,3,4],k=-2)\n",
    "arr3 = np.diag([1,2,3,4,5],k=0)\n",
    "print(arr1+arr2+arr3)"
   ]
  },
  {
   "cell_type": "code",
   "execution_count": 35,
   "metadata": {},
   "outputs": [
    {
     "name": "stdout",
     "output_type": "stream",
     "text": [
      "[[7 7 7]\n",
      " [7 7 7]\n",
      " [7 7 7]]\n"
     ]
    }
   ],
   "source": [
    "#full dimensions,size\n",
    "print(np.full((3,3),7))"
   ]
  },
  {
   "cell_type": "code",
   "execution_count": 36,
   "metadata": {},
   "outputs": [
    {
     "name": "stdout",
     "output_type": "stream",
     "text": [
      "[[-0.  0.]\n",
      " [-0.  0.]\n",
      " [-0.  0.]]\n"
     ]
    }
   ],
   "source": [
    "#empty array\n",
    "print(np.empty((3,2)))"
   ]
  },
  {
   "cell_type": "markdown",
   "metadata": {},
   "source": [
    "<h1>3. numpy Datatypes</h1>"
   ]
  },
  {
   "cell_type": "code",
   "execution_count": 37,
   "metadata": {},
   "outputs": [
    {
     "data": {
      "text/plain": [
       "numpy.str_"
      ]
     },
     "execution_count": 37,
     "metadata": {},
     "output_type": "execute_result"
    }
   ],
   "source": [
    "np.int64 #Signed 64-bit integer types\n",
    "np.float32 #Standard double-precision floating point\n",
    "np.complex #Complex numbers represented by 128 floats\n",
    "np.bool #Boolean type storing TRUE and FALSE values\n",
    "np.object #Python object type\n",
    "np.string_ #Fixed-length string type\n",
    "np.unicode_ #Fixed-length unicode type"
   ]
  },
  {
   "cell_type": "code",
   "execution_count": 38,
   "metadata": {},
   "outputs": [
    {
     "name": "stdout",
     "output_type": "stream",
     "text": [
      "int32\n",
      "int32\n",
      "10\n"
     ]
    }
   ],
   "source": [
    "arr = np.arange(10).reshape(1,2,5)\n",
    "print(arr.dtype)\n",
    "print(arr.dtype.name)\n",
    "print(arr.size)"
   ]
  },
  {
   "cell_type": "markdown",
   "metadata": {},
   "source": [
    "<h1>Help</h1>"
   ]
  },
  {
   "cell_type": "code",
   "execution_count": 39,
   "metadata": {},
   "outputs": [
    {
     "name": "stdout",
     "output_type": "stream",
     "text": [
      "Data-type of the array's elements.\n",
      "\n",
      "Parameters\n",
      "----------\n",
      "None\n",
      "\n",
      "Returns\n",
      "-------\n",
      "d : numpy dtype object\n",
      "\n",
      "See Also\n",
      "--------\n",
      "numpy.dtype\n",
      "\n",
      "Examples\n",
      "--------\n",
      ">>> x\n",
      "array([[0, 1],\n",
      "       [2, 3]])\n",
      ">>> x.dtype\n",
      "dtype('int32')\n",
      ">>> type(x.dtype)\n",
      "<type 'numpy.dtype'>\n",
      "None\n"
     ]
    }
   ],
   "source": [
    "print(np.info(np.ndarray.dtype))"
   ]
  },
  {
   "cell_type": "markdown",
   "metadata": {},
   "source": [
    "<h1>4. Arithmetic Operations</h1>"
   ]
  },
  {
   "cell_type": "code",
   "execution_count": 40,
   "metadata": {},
   "outputs": [
    {
     "name": "stdout",
     "output_type": "stream",
     "text": [
      "[[7 7 7]\n",
      " [7 7 7]\n",
      " [7 7 7]]\n",
      "[[5 5 5]\n",
      " [5 5 5]\n",
      " [5 5 5]]\n"
     ]
    }
   ],
   "source": [
    "arr = np.full((3,3),7)\n",
    "print(str(arr)+'\\n'+str(arr-2))"
   ]
  },
  {
   "cell_type": "code",
   "execution_count": 41,
   "metadata": {},
   "outputs": [
    {
     "name": "stdout",
     "output_type": "stream",
     "text": [
      "[[5 5 5]\n",
      " [5 5 5]\n",
      " [5 5 5]]\n"
     ]
    }
   ],
   "source": [
    "#Subtraction\n",
    "print(arr-2)"
   ]
  },
  {
   "cell_type": "code",
   "execution_count": 42,
   "metadata": {},
   "outputs": [
    {
     "name": "stdout",
     "output_type": "stream",
     "text": [
      "[[9 9 9]\n",
      " [9 9 9]\n",
      " [9 9 9]]\n"
     ]
    }
   ],
   "source": [
    "#Addition\n",
    "print(arr+2)"
   ]
  },
  {
   "cell_type": "code",
   "execution_count": 43,
   "metadata": {},
   "outputs": [
    {
     "name": "stdout",
     "output_type": "stream",
     "text": [
      "[[0.9 0.9 0.9]\n",
      " [0.9 0.9 0.9]\n",
      " [0.9 0.9 0.9]]\n"
     ]
    }
   ],
   "source": [
    "#Multipication and division\n",
    "print((arr+2)/((arr-2)*2))"
   ]
  },
  {
   "cell_type": "code",
   "execution_count": 44,
   "metadata": {},
   "outputs": [
    {
     "name": "stdout",
     "output_type": "stream",
     "text": [
      "[[10 10 10]\n",
      " [10 10 10]\n",
      " [10 10 10]]\n"
     ]
    }
   ],
   "source": [
    "#Multiplication\n",
    "print((arr-2)*2)"
   ]
  },
  {
   "cell_type": "code",
   "execution_count": 45,
   "metadata": {},
   "outputs": [
    {
     "name": "stdout",
     "output_type": "stream",
     "text": [
      "[[49 49 49]\n",
      " [49 49 49]\n",
      " [49 49 49]]\n",
      "[[49 49 49]\n",
      " [49 49 49]\n",
      " [49 49 49]]\n"
     ]
    }
   ],
   "source": [
    "#Multiplication\n",
    "print(np.multiply(arr,arr))\n",
    "print(arr*arr)"
   ]
  },
  {
   "cell_type": "code",
   "execution_count": 46,
   "metadata": {},
   "outputs": [
    {
     "name": "stdout",
     "output_type": "stream",
     "text": [
      "[[0.6569866 0.6569866 0.6569866]\n",
      " [0.6569866 0.6569866 0.6569866]\n",
      " [0.6569866 0.6569866 0.6569866]]\n",
      "[[0.75390225 0.75390225 0.75390225]\n",
      " [0.75390225 0.75390225 0.75390225]\n",
      " [0.75390225 0.75390225 0.75390225]]\n",
      "[[2.64575131 2.64575131 2.64575131]\n",
      " [2.64575131 2.64575131 2.64575131]\n",
      " [2.64575131 2.64575131 2.64575131]]\n",
      "[[1096.63315843 1096.63315843 1096.63315843]\n",
      " [1096.63315843 1096.63315843 1096.63315843]\n",
      " [1096.63315843 1096.63315843 1096.63315843]]\n",
      "[[1.94591015 1.94591015 1.94591015]\n",
      " [1.94591015 1.94591015 1.94591015]\n",
      " [1.94591015 1.94591015 1.94591015]]\n"
     ]
    }
   ],
   "source": [
    "#Arithematic Operations\n",
    "print(np.sin(arr)) #sin\n",
    "print(np.cos(arr)) #Cos\n",
    "print(np.sqrt(arr)) #square root\n",
    "print(np.exp(arr)) #exponential\n",
    "print(np.log(arr)) #log"
   ]
  },
  {
   "cell_type": "code",
   "execution_count": 47,
   "metadata": {},
   "outputs": [
    {
     "name": "stdout",
     "output_type": "stream",
     "text": [
      "[[147 147 147]\n",
      " [147 147 147]\n",
      " [147 147 147]]\n",
      "[[0. 0. 0.]\n",
      " [0. 0. 0.]\n",
      " [0. 0. 0.]]\n"
     ]
    }
   ],
   "source": [
    "#Dot Operation\n",
    "arr2 = np.zeros((3,3))\n",
    "print(arr.dot(arr))\n",
    "print(arr2.dot(arr))"
   ]
  },
  {
   "cell_type": "markdown",
   "metadata": {},
   "source": [
    "<h1>5. Array Comparisions</h1>"
   ]
  },
  {
   "cell_type": "code",
   "execution_count": 48,
   "metadata": {},
   "outputs": [
    {
     "name": "stdout",
     "output_type": "stream",
     "text": [
      "[[ True  True  True]\n",
      " [ True  True  True]\n",
      " [ True  True  True]]\n"
     ]
    }
   ],
   "source": [
    "arr1 = arr\n",
    "print(arr1==arr)"
   ]
  },
  {
   "cell_type": "code",
   "execution_count": 49,
   "metadata": {},
   "outputs": [
    {
     "name": "stdout",
     "output_type": "stream",
     "text": [
      "Equal Arrays\n"
     ]
    }
   ],
   "source": [
    "#Checking if arr1 & arr are equal\n",
    "if np.array_equal(arr1,arr):\n",
    "    print('Equal Arrays')\n",
    "else:\n",
    "    print('Non equal Arrays')"
   ]
  },
  {
   "cell_type": "code",
   "execution_count": 50,
   "metadata": {},
   "outputs": [
    {
     "name": "stdout",
     "output_type": "stream",
     "text": [
      "Non equal Arrays\n"
     ]
    }
   ],
   "source": [
    "#Checking if arr1 & arr2 are equal\n",
    "arr2 = np.zeros((3,3))\n",
    "if arr2.all()==arr1.all():\n",
    "    print('Equal Arrays')\n",
    "else:\n",
    "    print('Non equal Arrays')"
   ]
  },
  {
   "cell_type": "code",
   "execution_count": 51,
   "metadata": {},
   "outputs": [
    {
     "name": "stdout",
     "output_type": "stream",
     "text": [
      "No Lesser values\n"
     ]
    }
   ],
   "source": [
    "#Checking if arr1 has any lesser values than in arr2\n",
    "if arr2.any()>arr1.any():\n",
    "    print('Has greater values')\n",
    "else:\n",
    "    print('No Lesser values')"
   ]
  },
  {
   "cell_type": "code",
   "execution_count": 52,
   "metadata": {},
   "outputs": [
    {
     "name": "stdout",
     "output_type": "stream",
     "text": [
      "[[10 10 10]\n",
      " [10 10 10]\n",
      " [10 10 10]]\n",
      "[[7 7 7]\n",
      " [7 7 7]\n",
      " [7 7 7]]\n",
      "Has greater values\n"
     ]
    }
   ],
   "source": [
    "#Comparing using all()\n",
    "arr2 = np.ones((3,3))\n",
    "arr2 = arr2.astype(np.int)\n",
    "arr2 = arr2*10\n",
    "print(arr2)\n",
    "print(arr1)\n",
    "if (arr2>arr1).all():\n",
    "    print('Has greater values')\n",
    "else:\n",
    "    print('No Lesser values')"
   ]
  },
  {
   "cell_type": "code",
   "execution_count": 53,
   "metadata": {},
   "outputs": [
    {
     "name": "stdout",
     "output_type": "stream",
     "text": [
      "[[ 0  0  0]\n",
      " [ 0 10  0]\n",
      " [ 0  0  0]]\n",
      "[[7 7 7]\n",
      " [7 7 7]\n",
      " [7 7 7]]\n",
      "Has greater values\n"
     ]
    }
   ],
   "source": [
    "#Comparing using Any()\n",
    "arr2 = np.zeros((3,3))\n",
    "arr2 = arr2.astype(np.int)\n",
    "arr2[1][1] = 10\n",
    "print(arr2)\n",
    "print(arr1)\n",
    "if (arr2>arr1).any():\n",
    "    print('Has greater values')\n",
    "else:\n",
    "    print('No Lesser values')"
   ]
  },
  {
   "cell_type": "markdown",
   "metadata": {},
   "source": [
    "<h1>6. Aggregate Functions</h1>"
   ]
  },
  {
   "cell_type": "code",
   "execution_count": 54,
   "metadata": {},
   "outputs": [
    {
     "name": "stdout",
     "output_type": "stream",
     "text": [
      "[2 4 6 8]\n"
     ]
    }
   ],
   "source": [
    "a = np.arange(2,10,2)\n",
    "print(a)"
   ]
  },
  {
   "cell_type": "code",
   "execution_count": 55,
   "metadata": {},
   "outputs": [
    {
     "data": {
      "text/plain": [
       "20"
      ]
     },
     "execution_count": 55,
     "metadata": {},
     "output_type": "execute_result"
    }
   ],
   "source": [
    "a.sum()"
   ]
  },
  {
   "cell_type": "code",
   "execution_count": 56,
   "metadata": {},
   "outputs": [
    {
     "data": {
      "text/plain": [
       "5.0"
      ]
     },
     "execution_count": 56,
     "metadata": {},
     "output_type": "execute_result"
    }
   ],
   "source": [
    "a.mean()"
   ]
  },
  {
   "cell_type": "code",
   "execution_count": 57,
   "metadata": {},
   "outputs": [
    {
     "name": "stdout",
     "output_type": "stream",
     "text": [
      "2\n",
      "8\n"
     ]
    }
   ],
   "source": [
    "print(a.min())\n",
    "print(a.max())"
   ]
  },
  {
   "cell_type": "code",
   "execution_count": 58,
   "metadata": {},
   "outputs": [
    {
     "name": "stdout",
     "output_type": "stream",
     "text": [
      "[ 2  6 12 20]\n"
     ]
    }
   ],
   "source": [
    "#Axis = 0 -> rows/yaxis, Axis = 1 -> column/xaxis, Axis = 3 -> zaxis -- check on google\n",
    "print(a.cumsum(axis=0))"
   ]
  },
  {
   "cell_type": "code",
   "execution_count": 59,
   "metadata": {},
   "outputs": [
    {
     "name": "stdout",
     "output_type": "stream",
     "text": [
      "[ 2  6 12 20]\n"
     ]
    }
   ],
   "source": [
    "c = a.reshape(4,1,1)\n",
    "print(a.cumsum(axis=0))"
   ]
  },
  {
   "cell_type": "code",
   "execution_count": 60,
   "metadata": {},
   "outputs": [
    {
     "data": {
      "text/plain": [
       "2.23606797749979"
      ]
     },
     "execution_count": 60,
     "metadata": {},
     "output_type": "execute_result"
    }
   ],
   "source": [
    "a.std()"
   ]
  },
  {
   "cell_type": "markdown",
   "metadata": {},
   "source": [
    "<h1>Axis</h1>"
   ]
  },
  {
   "cell_type": "code",
   "execution_count": 61,
   "metadata": {},
   "outputs": [
    {
     "data": {
      "text/plain": [
       "20"
      ]
     },
     "execution_count": 61,
     "metadata": {},
     "output_type": "execute_result"
    }
   ],
   "source": [
    "a.sum(axis = 0)"
   ]
  },
  {
   "cell_type": "code",
   "execution_count": 62,
   "metadata": {},
   "outputs": [
    {
     "data": {
      "text/plain": [
       "array([[[ 5,  5,  5],\n",
       "        [10, 10, 10],\n",
       "        [15, 15, 15]],\n",
       "\n",
       "       [[ 5,  5,  5],\n",
       "        [10, 10, 10],\n",
       "        [15, 15, 15]],\n",
       "\n",
       "       [[ 5,  5,  5],\n",
       "        [10, 10, 10],\n",
       "        [15, 15, 15]]], dtype=int32)"
      ]
     },
     "execution_count": 62,
     "metadata": {},
     "output_type": "execute_result"
    }
   ],
   "source": [
    "b = np.full((3,3,3),5)\n",
    "b.cumsum(axis=1)"
   ]
  },
  {
   "cell_type": "code",
   "execution_count": 63,
   "metadata": {},
   "outputs": [
    {
     "data": {
      "text/plain": [
       "array([[[ 5, 10, 15],\n",
       "        [ 5, 10, 15],\n",
       "        [ 5, 10, 15]],\n",
       "\n",
       "       [[ 5, 10, 15],\n",
       "        [ 5, 10, 15],\n",
       "        [ 5, 10, 15]],\n",
       "\n",
       "       [[ 5, 10, 15],\n",
       "        [ 5, 10, 15],\n",
       "        [ 5, 10, 15]]], dtype=int32)"
      ]
     },
     "execution_count": 63,
     "metadata": {},
     "output_type": "execute_result"
    }
   ],
   "source": [
    "b = np.full((3,3,3),5)\n",
    "b.cumsum(axis=2)"
   ]
  },
  {
   "cell_type": "code",
   "execution_count": 64,
   "metadata": {},
   "outputs": [
    {
     "data": {
      "text/plain": [
       "array([[[ 5,  5,  5],\n",
       "        [ 5,  5,  5],\n",
       "        [ 5,  5,  5]],\n",
       "\n",
       "       [[10, 10, 10],\n",
       "        [10, 10, 10],\n",
       "        [10, 10, 10]],\n",
       "\n",
       "       [[15, 15, 15],\n",
       "        [15, 15, 15],\n",
       "        [15, 15, 15]]], dtype=int32)"
      ]
     },
     "execution_count": 64,
     "metadata": {},
     "output_type": "execute_result"
    }
   ],
   "source": [
    "b = np.full((3,3,3),5)\n",
    "b.cumsum(axis=0)"
   ]
  },
  {
   "cell_type": "code",
   "execution_count": 65,
   "metadata": {},
   "outputs": [
    {
     "name": "stdout",
     "output_type": "stream",
     "text": [
      "[[5 5 5]\n",
      " [5 5 5]\n",
      " [5 5 5]]\n",
      "[[5 5 5]\n",
      " [5 5 5]\n",
      " [5 5 5]]\n",
      "[[5 5 5]\n",
      " [5 5 5]\n",
      " [5 5 5]]\n"
     ]
    }
   ],
   "source": [
    "b = np.full((3,3,3),5)\n",
    "b.cumsum(axis=0)\n",
    "b1 = b[:][:][0]\n",
    "b2 = b[:][:][1]\n",
    "b3 = b[:][:][2]\n",
    "print(b1)\n",
    "print(b2)\n",
    "print(b3)"
   ]
  },
  {
   "cell_type": "code",
   "execution_count": 66,
   "metadata": {},
   "outputs": [
    {
     "name": "stdout",
     "output_type": "stream",
     "text": [
      "[[5 5 5]\n",
      " [5 5 5]\n",
      " [5 5 5]]\n",
      "[[10 10 10]\n",
      " [10 10 10]\n",
      " [10 10 10]]\n",
      "[[15 15 15]\n",
      " [15 15 15]\n",
      " [15 15 15]]\n"
     ]
    }
   ],
   "source": [
    "b = np.full((3,3,3),5)\n",
    "b = b.cumsum(axis=0)\n",
    "b1 = b[:][:][0]\n",
    "b2 = b[:][:][1]\n",
    "b3 = b[:][:][2]\n",
    "print(b1)\n",
    "print(b2)\n",
    "print(b3)"
   ]
  },
  {
   "cell_type": "code",
   "execution_count": 67,
   "metadata": {},
   "outputs": [
    {
     "name": "stdout",
     "output_type": "stream",
     "text": [
      "[[ 5  5  5]\n",
      " [ 5  5  5]\n",
      " [ 5  5  5]\n",
      " [10 10 10]\n",
      " [10 10 10]\n",
      " [10 10 10]\n",
      " [15 15 15]\n",
      " [15 15 15]\n",
      " [15 15 15]]\n"
     ]
    }
   ],
   "source": [
    "print(np.concatenate([b1,b2,b3],axis=0))"
   ]
  },
  {
   "cell_type": "code",
   "execution_count": 68,
   "metadata": {},
   "outputs": [
    {
     "name": "stdout",
     "output_type": "stream",
     "text": [
      "[[ 5  5  5 10 10 10 15 15 15]\n",
      " [ 5  5  5 10 10 10 15 15 15]\n",
      " [ 5  5  5 10 10 10 15 15 15]]\n"
     ]
    }
   ],
   "source": [
    "print(np.concatenate([b1,b2,b3],axis=1))"
   ]
  },
  {
   "cell_type": "code",
   "execution_count": 69,
   "metadata": {},
   "outputs": [
    {
     "name": "stdout",
     "output_type": "stream",
     "text": [
      "[[[ 5 10 15]\n",
      "  [ 5 10 15]\n",
      "  [ 5 10 15]]\n",
      "\n",
      " [[ 5 10 15]\n",
      "  [ 5 10 15]\n",
      "  [ 5 10 15]]\n",
      "\n",
      " [[ 5 10 15]\n",
      "  [ 5 10 15]\n",
      "  [ 5 10 15]]]\n",
      "[[[ 5  5  5]\n",
      "  [ 5  5  5]\n",
      "  [ 5  5  5]]\n",
      "\n",
      " [[10 10 10]\n",
      "  [10 10 10]\n",
      "  [10 10 10]]\n",
      "\n",
      " [[15 15 15]\n",
      "  [15 15 15]\n",
      "  [15 15 15]]]\n"
     ]
    }
   ],
   "source": [
    "b1 = b1.reshape(3,3,1)\n",
    "#print(b1)\n",
    "b2 = b2.reshape(3,3,1)\n",
    "#print(b2)\n",
    "b3 = b3.reshape(3,3,1)\n",
    "#print(b3)\n",
    "#print('\\n\\n')\n",
    "print(np.concatenate([b1,b2,b3],axis=2))\n",
    "tp = np.concatenate([b1,b2,b3],axis=2)\n",
    "print(tp.transpose())"
   ]
  },
  {
   "cell_type": "code",
   "execution_count": 70,
   "metadata": {},
   "outputs": [
    {
     "name": "stdout",
     "output_type": "stream",
     "text": [
      "[[[0.         0.34615385 0.69230769]\n",
      "  [1.03846154 1.38461538 1.73076923]\n",
      "  [2.07692308 2.42307692 2.76923077]]\n",
      "\n",
      " [[3.11538462 3.46153846 3.80769231]\n",
      "  [4.15384615 4.5        4.84615385]\n",
      "  [5.19230769 5.53846154 5.88461538]]\n",
      "\n",
      " [[6.23076923 6.57692308 6.92307692]\n",
      "  [7.26923077 7.61538462 7.96153846]\n",
      "  [8.30769231 8.65384615 9.        ]]]\n"
     ]
    }
   ],
   "source": [
    "x = np.linspace(0,9,27).reshape(3,3,3)\n",
    "print(x)"
   ]
  },
  {
   "cell_type": "code",
   "execution_count": 71,
   "metadata": {},
   "outputs": [
    {
     "name": "stdout",
     "output_type": "stream",
     "text": [
      "[[0.         0.34615385 0.69230769]\n",
      " [1.03846154 1.38461538 1.73076923]\n",
      " [2.07692308 2.42307692 2.76923077]]\n"
     ]
    }
   ],
   "source": [
    "print(x[:][:][0])"
   ]
  },
  {
   "cell_type": "code",
   "execution_count": 72,
   "metadata": {},
   "outputs": [
    {
     "name": "stdout",
     "output_type": "stream",
     "text": [
      "[[1 2 3]\n",
      " [4 5 6]\n",
      " [7 8 9]]\n"
     ]
    }
   ],
   "source": [
    "z = np.arange(1,10).reshape(3,3)\n",
    "print(z)"
   ]
  },
  {
   "cell_type": "code",
   "execution_count": 73,
   "metadata": {},
   "outputs": [
    {
     "name": "stdout",
     "output_type": "stream",
     "text": [
      "[12 15 18]\n",
      "\n",
      "\n",
      "[ 6 15 24]\n"
     ]
    }
   ],
   "source": [
    "print(z.sum(axis = 0))\n",
    "print('\\n')\n",
    "print(z.sum(axis = 1))"
   ]
  },
  {
   "cell_type": "code",
   "execution_count": 74,
   "metadata": {},
   "outputs": [
    {
     "name": "stdout",
     "output_type": "stream",
     "text": [
      "[[[1]\n",
      "  [2]\n",
      "  [3]]\n",
      "\n",
      " [[4]\n",
      "  [5]\n",
      "  [6]]\n",
      "\n",
      " [[7]\n",
      "  [8]\n",
      "  [9]]]\n"
     ]
    }
   ],
   "source": [
    "z = np.arange(1,10).reshape(3,3,1)\n",
    "print(z)"
   ]
  },
  {
   "cell_type": "code",
   "execution_count": 75,
   "metadata": {},
   "outputs": [
    {
     "name": "stdout",
     "output_type": "stream",
     "text": [
      "[[12]\n",
      " [15]\n",
      " [18]]\n",
      "\n",
      "\n",
      "[[ 6]\n",
      " [15]\n",
      " [24]]\n",
      "\n",
      "\n",
      "[[1 2 3]\n",
      " [4 5 6]\n",
      " [7 8 9]]\n"
     ]
    }
   ],
   "source": [
    "print(z.sum(axis = 0))\n",
    "print('\\n')\n",
    "print(z.sum(axis = 1))\n",
    "print('\\n')\n",
    "print(z.sum(axis = 2))"
   ]
  },
  {
   "cell_type": "markdown",
   "metadata": {},
   "source": [
    "<h1>tril_indices(), mask_indices(), diag_indices()</h1>"
   ]
  },
  {
   "cell_type": "code",
   "execution_count": 76,
   "metadata": {},
   "outputs": [
    {
     "name": "stdout",
     "output_type": "stream",
     "text": [
      "[[30 15 19]\n",
      " [32 40 16]\n",
      " [38 33 50]]\n"
     ]
    }
   ],
   "source": [
    "mat = np.array([[10,5,9],\n",
    "                [2,20,6],\n",
    "                [8,3,30]]).reshape(3,3)\n",
    " \n",
    "#Max elements w.r.t axis = 1 i.e., row-wise max elements\n",
    "max = np.amax(mat,axis = 1)\n",
    "\n",
    "#Upper diagonal 5,9,6\n",
    "upper = np.triu_indices(mat.shape[0],1)\n",
    "#Diagonal 10,20,30\n",
    "main = np.diag_indices(mat.shape[0]) \n",
    "#Lower diagonal 2,8,3\n",
    "lower = np.tril_indices(mat.shape[0],-1)\n",
    "\n",
    "diag=[upper,main,lower]\n",
    "\n",
    "for x in range(3):\n",
    "    mat[diag[x]]+=max[x]\n",
    "\n",
    "print(mat)"
   ]
  },
  {
   "cell_type": "code",
   "execution_count": 77,
   "metadata": {},
   "outputs": [
    {
     "name": "stdout",
     "output_type": "stream",
     "text": [
      "(array([0, 0, 1], dtype=int64), array([1, 2, 2], dtype=int64))\n"
     ]
    }
   ],
   "source": [
    "#Arguments - n (n*n matrix), mask function, k\n",
    "a = np.mask_indices(3, np.triu, 1)\n",
    "print(a)"
   ]
  },
  {
   "cell_type": "markdown",
   "metadata": {},
   "source": [
    "<h1>Complex Problem </h1>"
   ]
  },
  {
   "cell_type": "code",
   "execution_count": 78,
   "metadata": {},
   "outputs": [
    {
     "name": "stdout",
     "output_type": "stream",
     "text": [
      "17.0\n"
     ]
    }
   ],
   "source": [
    "arr = np.arange(9, dtype = \"float\").reshape(3,3)\n",
    "ind1 = np.array([[1,2],[0,1]])\n",
    "ind2 = np.array([[0,2],[1,2]])\n",
    "print(arr[ind1, ind2].sum())"
   ]
  },
  {
   "cell_type": "code",
   "execution_count": 79,
   "metadata": {},
   "outputs": [],
   "source": [
    "arr = np.arange(9, dtype = \"float\").reshape(3,3)"
   ]
  },
  {
   "cell_type": "code",
   "execution_count": 80,
   "metadata": {},
   "outputs": [
    {
     "name": "stdout",
     "output_type": "stream",
     "text": [
      "[[0. 2.]\n",
      " [1. 3.]]\n"
     ]
    }
   ],
   "source": [
    "print(arr[[[0,0],[0,1]],[[0,2],[1,0]]])"
   ]
  },
  {
   "cell_type": "code",
   "execution_count": 81,
   "metadata": {},
   "outputs": [
    {
     "data": {
      "text/plain": [
       "2.0"
      ]
     },
     "execution_count": 81,
     "metadata": {},
     "output_type": "execute_result"
    }
   ],
   "source": [
    "arr[0][2]"
   ]
  },
  {
   "cell_type": "code",
   "execution_count": 90,
   "metadata": {},
   "outputs": [
    {
     "name": "stdout",
     "output_type": "stream",
     "text": [
      "[1. 1.]\n"
     ]
    }
   ],
   "source": [
    "print(arr[[0,0],[1,1]])"
   ]
  },
  {
   "cell_type": "code",
   "execution_count": 85,
   "metadata": {},
   "outputs": [
    {
     "name": "stdout",
     "output_type": "stream",
     "text": [
      "[[1. 0.]\n",
      " [1. 4.]\n",
      " [1. 8.]]\n"
     ]
    }
   ],
   "source": [
    "print(arr[[[0,0],[0,1],[0,2]],[[1,0],[1,1],[1,2]]])"
   ]
  },
  {
   "cell_type": "code",
   "execution_count": 86,
   "metadata": {},
   "outputs": [
    {
     "name": "stdout",
     "output_type": "stream",
     "text": [
      "[[0. 1. 2.]\n",
      " [3. 4. 5.]\n",
      " [6. 7. 8.]]\n"
     ]
    }
   ],
   "source": [
    "print(arr)"
   ]
  },
  {
   "cell_type": "code",
   "execution_count": null,
   "metadata": {},
   "outputs": [],
   "source": []
  }
 ],
 "metadata": {
  "kernelspec": {
   "display_name": "Python 3",
   "language": "python",
   "name": "python3"
  },
  "language_info": {
   "codemirror_mode": {
    "name": "ipython",
    "version": 3
   },
   "file_extension": ".py",
   "mimetype": "text/x-python",
   "name": "python",
   "nbconvert_exporter": "python",
   "pygments_lexer": "ipython3",
   "version": "3.8.3"
  }
 },
 "nbformat": 4,
 "nbformat_minor": 4
}
