{
 "cells": [
  {
   "cell_type": "code",
   "execution_count": 24,
   "metadata": {},
   "outputs": [],
   "source": [
    "#Import Libraries needed\n",
    "import nltk\n",
    "import numpy\n",
    "from nltk.tokenize import word_tokenize, sent_tokenize\n",
    "from nltk.corpus import wordnet\n",
    "#Get library of english stopwords \n",
    "from nltk.corpus import stopwords\n",
    "swords = stopwords.words('english')"
   ]
  },
  {
   "cell_type": "code",
   "execution_count": 26,
   "metadata": {},
   "outputs": [
    {
     "name": "stdin",
     "output_type": "stream",
     "text": [
      "Enter the paragraph or sentence you want broken down: \n",
      " Hi, How are you doing these days?\n"
     ]
    }
   ],
   "source": [
    "#Take User Input\n",
    "sentence = str(input(\"Enter the paragraph or sentence you want broken down: \\n\"))"
   ]
  },
  {
   "cell_type": "code",
   "execution_count": 27,
   "metadata": {},
   "outputs": [],
   "source": [
    "#Break down string into tokens that NLTK can process\n",
    "tokens_in_sentence = nltk.word_tokenize(sentence)"
   ]
  },
  {
   "cell_type": "code",
   "execution_count": 28,
   "metadata": {},
   "outputs": [],
   "source": [
    "important_words = tokens_in_sentence[:] "
   ]
  },
  {
   "cell_type": "code",
   "execution_count": 29,
   "metadata": {},
   "outputs": [],
   "source": [
    "#Go through the list of tokens and remove any stopwords\n",
    "for token in tokens_in_sentence:\n",
    "    if token in swords:\n",
    "        important_words.remove(token)"
   ]
  },
  {
   "cell_type": "code",
   "execution_count": 30,
   "metadata": {},
   "outputs": [
    {
     "name": "stdout",
     "output_type": "stream",
     "text": [
      "Frequency of important words\n",
      "Hi   :   1\n",
      ",   :   1\n",
      "How   :   1\n",
      "days   :   1\n",
      "?   :   1\n"
     ]
    }
   ],
   "source": [
    "#Count the frequency\n",
    "freq = nltk.FreqDist(important_words) \n",
    "print(\"Frequency of important words\")\n",
    "for key,val in freq.items(): \n",
    "    print (str(key) + '   :   ' + str(val))"
   ]
  },
  {
   "cell_type": "code",
   "execution_count": 31,
   "metadata": {},
   "outputs": [
    {
     "name": "stdin",
     "output_type": "stream",
     "text": [
      "Enter the word you want definition for : \n",
      " Pandemic\n"
     ]
    }
   ],
   "source": [
    "#Take User Input word for definition\n",
    "word_def = str(input(\"Enter the word you want definition for : \\n\"))"
   ]
  },
  {
   "cell_type": "code",
   "execution_count": 32,
   "metadata": {},
   "outputs": [
    {
     "name": "stdout",
     "output_type": "stream",
     "text": [
      "Definition of 'Pandemic' : \n",
      "\n",
      "1. an epidemic that is geographically widespread; occurring throughout a region or even throughout the world\n",
      "\n",
      "2. epidemic over a wide geographical area\n",
      "\n",
      "3. existing everywhere\n",
      "\n"
     ]
    }
   ],
   "source": [
    "print(\"Definition of '\" + word_def +  \"' : \\n\")\n",
    "syn = wordnet.synsets(word_def)\n",
    "if len(syn) == 0 :\n",
    "    print(\"No Definition for this word\")\n",
    "else:\n",
    "#    print(syn)\n",
    "    n = len(syn)\n",
    "    for i in range(0,n):\n",
    "        print(str(i+1) +\". \"+ str(syn[i].definition()) + \"\\n\")"
   ]
  },
  {
   "cell_type": "code",
   "execution_count": null,
   "metadata": {},
   "outputs": [],
   "source": []
  }
 ],
 "metadata": {
  "kernelspec": {
   "display_name": "Python 3",
   "language": "python",
   "name": "python3"
  },
  "language_info": {
   "codemirror_mode": {
    "name": "ipython",
    "version": 3
   },
   "file_extension": ".py",
   "mimetype": "text/x-python",
   "name": "python",
   "nbconvert_exporter": "python",
   "pygments_lexer": "ipython3",
   "version": "3.8.3"
  }
 },
 "nbformat": 4,
 "nbformat_minor": 4
}
